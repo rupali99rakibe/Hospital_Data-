{
 "cells": [
  {
   "cell_type": "markdown",
   "id": "49e8a94c-cbb1-4d5f-b5cd-6ed1e05136ce",
   "metadata": {},
   "source": [
    "# Data Interpretation"
   ]
  },
  {
   "cell_type": "markdown",
   "id": "e0fd8da2-e46f-4db8-a804-d6648878da08",
   "metadata": {},
   "source": [
    "# 1. Patient Demographics"
   ]
  },
  {
   "cell_type": "code",
   "execution_count": 16,
   "id": "8859fc23-cb46-4411-b8ea-3ce44d10ddb7",
   "metadata": {},
   "outputs": [],
   "source": [
    "import pandas as pd \n",
    "import numpy as np\n",
    "import seaborn as sns\n",
    "import matplotlib.pyplot as plt\n",
    "from scipy.stats import chi2_contingency\n",
    "from scipy.stats import ttest_ind"
   ]
  },
  {
   "cell_type": "code",
   "execution_count": 2,
   "id": "9de4014c-f50b-4830-9f54-028e5dafdc3f",
   "metadata": {},
   "outputs": [
    {
     "data": {
      "text/html": [
       "<div>\n",
       "<style scoped>\n",
       "    .dataframe tbody tr th:only-of-type {\n",
       "        vertical-align: middle;\n",
       "    }\n",
       "\n",
       "    .dataframe tbody tr th {\n",
       "        vertical-align: top;\n",
       "    }\n",
       "\n",
       "    .dataframe thead th {\n",
       "        text-align: right;\n",
       "    }\n",
       "</style>\n",
       "<table border=\"1\" class=\"dataframe\">\n",
       "  <thead>\n",
       "    <tr style=\"text-align: right;\">\n",
       "      <th></th>\n",
       "      <th>PatientID</th>\n",
       "      <th>Age (in years)</th>\n",
       "      <th>Gender</th>\n",
       "      <th>AdmissionType</th>\n",
       "      <th>Diagnosis</th>\n",
       "      <th>LengthOfStay (in days)</th>\n",
       "      <th>TreatmentReceived</th>\n",
       "      <th>FollowUpSchedule</th>\n",
       "      <th>Readmitted</th>\n",
       "    </tr>\n",
       "  </thead>\n",
       "  <tbody>\n",
       "    <tr>\n",
       "      <th>0</th>\n",
       "      <td>1</td>\n",
       "      <td>65</td>\n",
       "      <td>Male</td>\n",
       "      <td>Emergency</td>\n",
       "      <td>Heart Failure</td>\n",
       "      <td>7</td>\n",
       "      <td>Medication A</td>\n",
       "      <td>Yes</td>\n",
       "      <td>Yes</td>\n",
       "    </tr>\n",
       "    <tr>\n",
       "      <th>1</th>\n",
       "      <td>2</td>\n",
       "      <td>50</td>\n",
       "      <td>Female</td>\n",
       "      <td>Elective</td>\n",
       "      <td>Hip Replacement</td>\n",
       "      <td>5</td>\n",
       "      <td>Surgery</td>\n",
       "      <td>Yes</td>\n",
       "      <td>No</td>\n",
       "    </tr>\n",
       "    <tr>\n",
       "      <th>2</th>\n",
       "      <td>3</td>\n",
       "      <td>72</td>\n",
       "      <td>Male</td>\n",
       "      <td>Emergency</td>\n",
       "      <td>Pneumonia</td>\n",
       "      <td>10</td>\n",
       "      <td>Antibiotics</td>\n",
       "      <td>No</td>\n",
       "      <td>Yes</td>\n",
       "    </tr>\n",
       "    <tr>\n",
       "      <th>3</th>\n",
       "      <td>4</td>\n",
       "      <td>45</td>\n",
       "      <td>Female</td>\n",
       "      <td>Urgent</td>\n",
       "      <td>Appendicitis</td>\n",
       "      <td>3</td>\n",
       "      <td>Surgery</td>\n",
       "      <td>Yes</td>\n",
       "      <td>No</td>\n",
       "    </tr>\n",
       "    <tr>\n",
       "      <th>4</th>\n",
       "      <td>5</td>\n",
       "      <td>80</td>\n",
       "      <td>Female</td>\n",
       "      <td>Emergency</td>\n",
       "      <td>Stroke</td>\n",
       "      <td>12</td>\n",
       "      <td>Rehabilitation</td>\n",
       "      <td>Yes</td>\n",
       "      <td>Yes</td>\n",
       "    </tr>\n",
       "  </tbody>\n",
       "</table>\n",
       "</div>"
      ],
      "text/plain": [
       "   PatientID  Age (in years)  Gender AdmissionType        Diagnosis  \\\n",
       "0          1              65    Male     Emergency    Heart Failure   \n",
       "1          2              50  Female      Elective  Hip Replacement   \n",
       "2          3              72    Male     Emergency        Pneumonia   \n",
       "3          4              45  Female        Urgent     Appendicitis   \n",
       "4          5              80  Female     Emergency          Stroke    \n",
       "\n",
       "   LengthOfStay (in days) TreatmentReceived FollowUpSchedule Readmitted  \n",
       "0                       7      Medication A              Yes        Yes  \n",
       "1                       5           Surgery              Yes         No  \n",
       "2                      10       Antibiotics               No        Yes  \n",
       "3                       3           Surgery              Yes         No  \n",
       "4                      12    Rehabilitation              Yes        Yes  "
      ]
     },
     "execution_count": 2,
     "metadata": {},
     "output_type": "execute_result"
    }
   ],
   "source": [
    "# load data set\n",
    "df = pd.read_excel(\"Hospital Readmission Data.xlsx\")\n",
    "df.head()"
   ]
  },
  {
   "cell_type": "code",
   "execution_count": 3,
   "id": "518d23f1-f9ca-45bc-85bc-5126907aaf65",
   "metadata": {},
   "outputs": [],
   "source": [
    "# Apply Label hot encoding on a data set\n",
    "from sklearn.preprocessing import LabelEncoder\n",
    "le = LabelEncoder()\n",
    "categorical_columns = ['Gender', 'AdmissionType', 'Diagnosis', 'TreatmentReceived', 'FollowUpSchedule', 'Readmitted' ]\n",
    "# Apply Label encoding to each categorical column\n",
    "for columns in categorical_columns:\n",
    "    df[columns] = le.fit_transform(df[columns])"
   ]
  },
  {
   "cell_type": "code",
   "execution_count": 4,
   "id": "58b043db-120c-4fac-8c76-4f4458046600",
   "metadata": {},
   "outputs": [
    {
     "data": {
      "text/html": [
       "<div>\n",
       "<style scoped>\n",
       "    .dataframe tbody tr th:only-of-type {\n",
       "        vertical-align: middle;\n",
       "    }\n",
       "\n",
       "    .dataframe tbody tr th {\n",
       "        vertical-align: top;\n",
       "    }\n",
       "\n",
       "    .dataframe thead th {\n",
       "        text-align: right;\n",
       "    }\n",
       "</style>\n",
       "<table border=\"1\" class=\"dataframe\">\n",
       "  <thead>\n",
       "    <tr style=\"text-align: right;\">\n",
       "      <th></th>\n",
       "      <th>PatientID</th>\n",
       "      <th>Age (in years)</th>\n",
       "      <th>Gender</th>\n",
       "      <th>AdmissionType</th>\n",
       "      <th>Diagnosis</th>\n",
       "      <th>LengthOfStay (in days)</th>\n",
       "      <th>TreatmentReceived</th>\n",
       "      <th>FollowUpSchedule</th>\n",
       "      <th>Readmitted</th>\n",
       "    </tr>\n",
       "  </thead>\n",
       "  <tbody>\n",
       "    <tr>\n",
       "      <th>0</th>\n",
       "      <td>1</td>\n",
       "      <td>65</td>\n",
       "      <td>1</td>\n",
       "      <td>1</td>\n",
       "      <td>4</td>\n",
       "      <td>7</td>\n",
       "      <td>3</td>\n",
       "      <td>1</td>\n",
       "      <td>1</td>\n",
       "    </tr>\n",
       "  </tbody>\n",
       "</table>\n",
       "</div>"
      ],
      "text/plain": [
       "   PatientID  Age (in years)  Gender  AdmissionType  Diagnosis  \\\n",
       "0          1              65       1              1          4   \n",
       "\n",
       "   LengthOfStay (in days)  TreatmentReceived  FollowUpSchedule  Readmitted  \n",
       "0                       7                  3                 1           1  "
      ]
     },
     "execution_count": 4,
     "metadata": {},
     "output_type": "execute_result"
    }
   ],
   "source": [
    "df.head(1)"
   ]
  },
  {
   "cell_type": "code",
   "execution_count": 5,
   "id": "d7b8666c-818c-4f46-9102-5910ccfa1d12",
   "metadata": {},
   "outputs": [
    {
     "name": "stdout",
     "output_type": "stream",
     "text": [
      "<class 'pandas.core.frame.DataFrame'>\n",
      "RangeIndex: 10 entries, 0 to 9\n",
      "Data columns (total 9 columns):\n",
      " #   Column                  Non-Null Count  Dtype\n",
      "---  ------                  --------------  -----\n",
      " 0   PatientID               10 non-null     int64\n",
      " 1   Age (in years)          10 non-null     int64\n",
      " 2   Gender                  10 non-null     int32\n",
      " 3   AdmissionType           10 non-null     int32\n",
      " 4   Diagnosis               10 non-null     int32\n",
      " 5   LengthOfStay (in days)  10 non-null     int64\n",
      " 6   TreatmentReceived       10 non-null     int32\n",
      " 7   FollowUpSchedule        10 non-null     int32\n",
      " 8   Readmitted              10 non-null     int32\n",
      "dtypes: int32(6), int64(3)\n",
      "memory usage: 612.0 bytes\n"
     ]
    }
   ],
   "source": [
    "df.info()"
   ]
  },
  {
   "cell_type": "raw",
   "id": "39707949-1026-444d-8c69-f4f6ba50de2b",
   "metadata": {},
   "source": [
    "# a). # Identify which age groups have higher readmission rates."
   ]
  },
  {
   "cell_type": "code",
   "execution_count": 6,
   "id": "326fa993-4f9a-451b-b347-524738b2c31f",
   "metadata": {},
   "outputs": [
    {
     "data": {
      "text/html": [
       "<div>\n",
       "<style scoped>\n",
       "    .dataframe tbody tr th:only-of-type {\n",
       "        vertical-align: middle;\n",
       "    }\n",
       "\n",
       "    .dataframe tbody tr th {\n",
       "        vertical-align: top;\n",
       "    }\n",
       "\n",
       "    .dataframe thead th {\n",
       "        text-align: right;\n",
       "    }\n",
       "</style>\n",
       "<table border=\"1\" class=\"dataframe\">\n",
       "  <thead>\n",
       "    <tr style=\"text-align: right;\">\n",
       "      <th></th>\n",
       "      <th>Age (in years)</th>\n",
       "      <th>Readmitted</th>\n",
       "    </tr>\n",
       "  </thead>\n",
       "  <tbody>\n",
       "    <tr>\n",
       "      <th>0</th>\n",
       "      <td>30</td>\n",
       "      <td>0.0</td>\n",
       "    </tr>\n",
       "    <tr>\n",
       "      <th>1</th>\n",
       "      <td>45</td>\n",
       "      <td>0.0</td>\n",
       "    </tr>\n",
       "    <tr>\n",
       "      <th>2</th>\n",
       "      <td>50</td>\n",
       "      <td>0.0</td>\n",
       "    </tr>\n",
       "    <tr>\n",
       "      <th>3</th>\n",
       "      <td>55</td>\n",
       "      <td>0.0</td>\n",
       "    </tr>\n",
       "    <tr>\n",
       "      <th>4</th>\n",
       "      <td>60</td>\n",
       "      <td>0.0</td>\n",
       "    </tr>\n",
       "    <tr>\n",
       "      <th>5</th>\n",
       "      <td>65</td>\n",
       "      <td>1.0</td>\n",
       "    </tr>\n",
       "    <tr>\n",
       "      <th>6</th>\n",
       "      <td>67</td>\n",
       "      <td>1.0</td>\n",
       "    </tr>\n",
       "    <tr>\n",
       "      <th>7</th>\n",
       "      <td>72</td>\n",
       "      <td>1.0</td>\n",
       "    </tr>\n",
       "    <tr>\n",
       "      <th>8</th>\n",
       "      <td>77</td>\n",
       "      <td>1.0</td>\n",
       "    </tr>\n",
       "    <tr>\n",
       "      <th>9</th>\n",
       "      <td>80</td>\n",
       "      <td>1.0</td>\n",
       "    </tr>\n",
       "  </tbody>\n",
       "</table>\n",
       "</div>"
      ],
      "text/plain": [
       "   Age (in years)  Readmitted\n",
       "0              30         0.0\n",
       "1              45         0.0\n",
       "2              50         0.0\n",
       "3              55         0.0\n",
       "4              60         0.0\n",
       "5              65         1.0\n",
       "6              67         1.0\n",
       "7              72         1.0\n",
       "8              77         1.0\n",
       "9              80         1.0"
      ]
     },
     "execution_count": 6,
     "metadata": {},
     "output_type": "execute_result"
    }
   ],
   "source": [
    "readmission_rates = df.groupby('Age (in years)')['Readmitted'].mean().reset_index()\n",
    "readmission_rates"
   ]
  },
  {
   "cell_type": "raw",
   "id": "285b12d9-233a-47ee-8192-e27263ad53de",
   "metadata": {},
   "source": [
    "#  b). Analyze the readmission rate by gender to see if there are any significant differences."
   ]
  },
  {
   "cell_type": "code",
   "execution_count": 7,
   "id": "a86c2f8a-8ecb-407e-ad3c-22ba0bff4deb",
   "metadata": {},
   "outputs": [
    {
     "data": {
      "text/plain": [
       "(1.2, 0.5488116360940265)"
      ]
     },
     "execution_count": 7,
     "metadata": {},
     "output_type": "execute_result"
    }
   ],
   "source": [
    "# Create a contingency table\n",
    "contingency_table = pd.crosstab(df['Gender'], df['Readmitted'])\n",
    "# Perform the chi-square test\n",
    "chi2, p, dof, expected = chi2_contingency(contingency_table)\n",
    "# Display the results\n",
    "chi2, p"
   ]
  },
  {
   "cell_type": "markdown",
   "id": "906aff3a-4f56-40d6-b0c8-2b88a3db7f0c",
   "metadata": {},
   "source": [
    "# 2). Medical History & Treatment"
   ]
  },
  {
   "cell_type": "raw",
   "id": "d1e341d1-1de3-46de-82af-0a3cae407cf8",
   "metadata": {},
   "source": [
    "# a). Determine which diagnoses are most commonly associated with readmissions."
   ]
  },
  {
   "cell_type": "code",
   "execution_count": 8,
   "id": "71c19ab9-6c72-49aa-a9bb-c1a46a8bf3a4",
   "metadata": {},
   "outputs": [
    {
     "name": "stdout",
     "output_type": "stream",
     "text": [
      "   Diagnosis  Readmitted\n",
      "1          1         1.0\n",
      "3          3         1.0\n",
      "4          4         1.0\n",
      "7          7         1.0\n",
      "8          8         1.0\n",
      "0          0         0.0\n",
      "2          2         0.0\n",
      "5          5         0.0\n",
      "6          6         0.0\n",
      "9          9         0.0\n"
     ]
    }
   ],
   "source": [
    "readmission_rates_by_diagnosis = df.groupby('Diagnosis')['Readmitted'].mean().reset_index()\n",
    "# Sort the results by readmission rate in descending order\n",
    "readmission_rates_by_diagnosis = readmission_rates_by_diagnosis.sort_values(by='Readmitted', ascending=False)\n",
    "print(readmission_rates_by_diagnosis)"
   ]
  },
  {
   "cell_type": "raw",
   "id": "92862791-9287-44f7-b64c-c5a963ae2c32",
   "metadata": {},
   "source": [
    "# b). Evaluate the effectiveness of different treatments in preventing readmissions."
   ]
  },
  {
   "cell_type": "code",
   "execution_count": 10,
   "id": "fd354cbb-ab54-4931-90ea-fc440bbc73c4",
   "metadata": {},
   "outputs": [
    {
     "name": "stdout",
     "output_type": "stream",
     "text": [
      "Readmission rates by treatment:\n",
      "   TreatmentReceived  Readmitted\n",
      "0                  0         1.0\n",
      "1                  1         1.0\n",
      "2                  2         0.0\n",
      "3                  3         1.0\n",
      "4                  4         1.0\n",
      "5                  5         1.0\n",
      "6                  6         0.0\n",
      "\n",
      "Chi-square test results:\n",
      "Chi-square statistic: 10.0\n",
      "P-value: 0.12465201948308108\n",
      "Degrees of freedom: 6\n",
      "Expected frequencies:\n",
      "[[0.5 0.5]\n",
      " [0.5 0.5]\n",
      " [0.5 0.5]\n",
      " [0.5 0.5]\n",
      " [0.5 0.5]\n",
      " [0.5 0.5]\n",
      " [2.  2. ]]\n",
      "\n",
      "There is no statistically significant difference in readmission rates between treatments.\n"
     ]
    }
   ],
   "source": [
    "# Calculate readmission rates for each treatment\n",
    "readmission_rates_by_treatment = df.groupby('TreatmentReceived')['Readmitted'].mean().reset_index()\n",
    "# Display the readmission rates\n",
    "print(\"Readmission rates by treatment:\") \n",
    "print(readmission_rates_by_treatment)\n",
    "# Step 2: Create a contingency table for the chi-square test\n",
    "contingency_table = pd.crosstab(df['TreatmentReceived'], df['Readmitted'])\n",
    "\n",
    "# Perform the chi-square test\n",
    "chi2, p, dof, expected = chi2_contingency(contingency_table)\n",
    "\n",
    "# Display the chi-square test results\n",
    "print(\"\\nChi-square test results:\")\n",
    "print(f\"Chi-square statistic: {chi2}\")\n",
    "print(f\"P-value: {p}\")\n",
    "print(f\"Degrees of freedom: {dof}\")\n",
    "print(\"Expected frequencies:\")\n",
    "print(expected)\n",
    "\n",
    "# Interpretation\n",
    "if p < 0.05:\n",
    "    print(\"\\nThere is a statistically significant difference in readmission rates between treatments.\")\n",
    "else:\n",
    "    print(\"\\nThere is no statistically significant difference in readmission rates between treatments.\")"
   ]
  },
  {
   "cell_type": "markdown",
   "id": "9aa62ccf-c2e7-4a19-b45c-b7bb4e0c2f65",
   "metadata": {},
   "source": [
    "# 3. Admission Details"
   ]
  },
  {
   "cell_type": "raw",
   "id": "25eb04d5-3d95-4ec0-befb-5c65c8433355",
   "metadata": {},
   "source": [
    "# a). Compare readmission rates based on the type of admission (e.g., Emergency vs. Elective)."
   ]
  },
  {
   "cell_type": "code",
   "execution_count": 11,
   "id": "40dbbf20-b8f8-48ee-b532-a9ec48ad5bd5",
   "metadata": {},
   "outputs": [
    {
     "name": "stdout",
     "output_type": "stream",
     "text": [
      "Readmission rates by admission type:\n",
      "   AdmissionType  Readmitted\n",
      "0              0         0.0\n",
      "1              1         1.0\n",
      "2              2         0.0\n",
      "\n",
      "Chi-square test results:\n",
      "Chi-square statistic: 10.0\n",
      "P-value: 0.006737946999085468\n",
      "Degrees of freedom: 2\n",
      "Expected frequencies:\n",
      "[[1.5 1.5]\n",
      " [2.5 2.5]\n",
      " [1.  1. ]]\n",
      "\n",
      "There is a statistically significant difference in readmission rates between admission types.\n"
     ]
    }
   ],
   "source": [
    "# Step 1: Calculate readmission rates for each type of admission\n",
    "readmission_rates_by_admission_type = df.groupby('AdmissionType')['Readmitted'].mean().reset_index()\n",
    "\n",
    "# Display the readmission rates\n",
    "print(\"Readmission rates by admission type:\")\n",
    "print(readmission_rates_by_admission_type)\n",
    "\n",
    "# Step 2: Create a contingency table for chi-square test\n",
    "contingency_table = pd.crosstab(df['AdmissionType'], df['Readmitted'])\n",
    "\n",
    "# Perform the chi-square test\n",
    "chi2, p, dof, expected = chi2_contingency(contingency_table)\n",
    "\n",
    "# Display the chi-square test results\n",
    "print(\"\\nChi-square test results:\")\n",
    "print(f\"Chi-square statistic: {chi2}\")\n",
    "print(f\"P-value: {p}\")\n",
    "print(f\"Degrees of freedom: {dof}\")\n",
    "print(\"Expected frequencies:\")\n",
    "print(expected)\n",
    "\n",
    "# Interpretation\n",
    "if p < 0.05:\n",
    "    print(\"\\nThere is a statistically significant difference in readmission rates between admission types.\")\n",
    "else:\n",
    "    print(\"\\nThere is no statistically significant difference in readmission rates between admission types.\")"
   ]
  },
  {
   "cell_type": "raw",
   "id": "e09ee2a8-cb2a-46fe-bfc7-84a66bed9691",
   "metadata": {},
   "source": [
    "# b). Investigate whether the length of stay influences the likelihood of readmission."
   ]
  },
  {
   "cell_type": "code",
   "execution_count": 17,
   "id": "6530d459-bc5e-416a-bb69-3c148c71ccaf",
   "metadata": {},
   "outputs": [
    {
     "name": "stdout",
     "output_type": "stream",
     "text": [
      "Descriptive statistics for Length of Stay:\n",
      "Mean length of stay for readmitted patients: 9.20\n",
      "Mean length of stay for non-readmitted patients: 4.00\n",
      "Standard deviation of length of stay for readmitted patients: 1.92\n",
      "Standard deviation of length of stay for non-readmitted patients: 1.58\n",
      "\n",
      "T-test results:\n",
      "T-statistic: 4.67\n",
      "P-value: 0.00\n",
      "\n",
      "There is a statistically significant difference in length of stay between readmitted and non-readmitted patients.\n"
     ]
    }
   ],
   "source": [
    "# Step 1: Calculate descriptive statistics\n",
    "readmitted = df[df['Readmitted'] == 1]\n",
    "not_readmitted = df[df['Readmitted'] == 0]\n",
    "\n",
    "print(\"Descriptive statistics for Length of Stay:\")\n",
    "print(f\"Mean length of stay for readmitted patients: {readmitted['LengthOfStay (in days)'].mean():.2f}\")\n",
    "print(f\"Mean length of stay for non-readmitted patients: {not_readmitted['LengthOfStay (in days)'].mean():.2f}\")\n",
    "print(f\"Standard deviation of length of stay for readmitted patients: {readmitted['LengthOfStay (in days)'].std():.2f}\")\n",
    "print(f\"Standard deviation of length of stay for non-readmitted patients: {not_readmitted['LengthOfStay (in days)'].std():.2f}\")\n",
    "\n",
    "# Step 2: Perform t-test\n",
    "t_stat, p_val = ttest_ind(readmitted['LengthOfStay (in days)'], not_readmitted['LengthOfStay (in days)'])\n",
    "\n",
    "print(\"\\nT-test results:\")\n",
    "print(f\"T-statistic: {t_stat:.2f}\")\n",
    "print(f\"P-value: {p_val:.2f}\")\n",
    "\n",
    "# Interpretation\n",
    "if p_val < 0.05:\n",
    "    print(\"\\nThere is a statistically significant difference in length of stay between readmitted and non-readmitted patients.\")\n",
    "else:\n",
    "    print(\"\\nThere is no statistically significant difference in length of stay between readmitted and non-readmitted patients.\")"
   ]
  }
 ],
 "metadata": {
  "kernelspec": {
   "display_name": "Python 3 (ipykernel)",
   "language": "python",
   "name": "python3"
  },
  "language_info": {
   "codemirror_mode": {
    "name": "ipython",
    "version": 3
   },
   "file_extension": ".py",
   "mimetype": "text/x-python",
   "name": "python",
   "nbconvert_exporter": "python",
   "pygments_lexer": "ipython3",
   "version": "3.11.7"
  },
  "widgets": {
   "application/vnd.jupyter.widget-state+json": {
    "state": {},
    "version_major": 2,
    "version_minor": 0
   }
  }
 },
 "nbformat": 4,
 "nbformat_minor": 5
}
